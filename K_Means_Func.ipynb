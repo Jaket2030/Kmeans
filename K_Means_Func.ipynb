{
  "nbformat": 4,
  "nbformat_minor": 0,
  "metadata": {
    "colab": {
      "name": "K Means Func.ipynb",
      "version": "0.3.2",
      "provenance": [],
      "collapsed_sections": []
    },
    "kernelspec": {
      "name": "python3",
      "display_name": "Python 3"
    }
  },
  "cells": [
    {
      "cell_type": "markdown",
      "metadata": {
        "id": "QjHRzeZBTDjH",
        "colab_type": "text"
      },
      "source": [
        "Given a set of two dimensional points P (e.g. [(1.1, 2.5), (3.4,1.9)...]; the size of set can be\n",
        "100s), write a function that calculates simple K-means. The expected returned value from the\n",
        "function is 1) a set of cluster id that each point belongs to, and 2) coordinates of centroids at the\n",
        "end of iteration."
      ]
    },
    {
      "cell_type": "code",
      "metadata": {
        "id": "8xJ5I_7NKcYV",
        "colab_type": "code",
        "colab": {}
      },
      "source": [
        "import numpy as np\n",
        "import pandas as pd\n",
        "import random\n",
        "from pandas import DataFrame, Series\n",
        "import matplotlib.pyplot as plt\n",
        "import seaborn as sns\n",
        "from sklearn.cluster import KMeans"
      ],
      "execution_count": 0,
      "outputs": []
    },
    {
      "cell_type": "code",
      "metadata": {
        "id": "O5z5v15DNGIN",
        "colab_type": "code",
        "colab": {}
      },
      "source": [
        "#creating the function\n",
        "def means(in_list):\n",
        "  #transforming the incoming data to DF\n",
        "  data = pd.DataFrame({'x': [x[0] for x in in_list],'y': [y[1] for y in in_list]},columns=['x', 'y'])\n",
        "  \n",
        "  # Running KMeans\n",
        "  X = data\n",
        "  k = 3\n",
        "\n",
        "  model = KMeans(n_clusters=k,\n",
        "\n",
        "  max_iter=10, random_state=1,\n",
        "  init='random', n_init=10)\n",
        "\n",
        "  data['cluster']= pd.Series(model.fit_predict(X))\n",
        "  \n",
        "  return (data,model.cluster_centers_)"
      ],
      "execution_count": 0,
      "outputs": []
    },
    {
      "cell_type": "code",
      "metadata": {
        "id": "LVygGy9kPN8G",
        "colab_type": "code",
        "colab": {
          "base_uri": "https://localhost:8080/",
          "height": 163
        },
        "outputId": "95a23902-5c46-4308-f92c-f2c00d726d66"
      },
      "source": [
        "#Testing\n",
        "in_list = [(0.1,0.2),(0.3,0.4),(0.5,0.6),(0.11,0.22),(0.55,0.11)]\n",
        "means (in_list)"
      ],
      "execution_count": 32,
      "outputs": [
        {
          "output_type": "execute_result",
          "data": {
            "text/plain": [
              "(      x     y  cluster\n",
              " 0  0.10  0.20        1\n",
              " 1  0.30  0.40        2\n",
              " 2  0.50  0.60        2\n",
              " 3  0.11  0.22        1\n",
              " 4  0.55  0.11        0, array([[0.55 , 0.11 ],\n",
              "        [0.105, 0.21 ],\n",
              "        [0.4  , 0.5  ]]))"
            ]
          },
          "metadata": {
            "tags": []
          },
          "execution_count": 32
        }
      ]
    }
  ]
}